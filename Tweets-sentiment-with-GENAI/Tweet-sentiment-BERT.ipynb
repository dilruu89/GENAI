{
 "cells": [
  {
   "cell_type": "code",
   "execution_count": 14,
   "metadata": {},
   "outputs": [],
   "source": [
    "import pandas as pd\n",
    "import re\n",
    "import torch\n",
    "from transformers import BertTokenizer\n",
    "import numpy as np\n",
    "\n",
    "# Load the CSV file\n",
    "df = pd.read_csv('./data/tweets.csv')\n",
    "\n",
    "# Clean the text\n",
    "def clean_text(text):\n",
    "    text = re.sub(r'http\\S+', '', text)  # Remove URLs\n",
    "    text = re.sub(r'@\\w+', '', text)     # Remove mentions\n",
    "    text = re.sub(r'#\\w+', '', text)     # Remove hashtags\n",
    "    text = re.sub(r'\\s+', ' ', text)     # Remove extra whitespace\n",
    "    text = re.sub(r'[^\\w\\s]', '', text)  # Remove special characters\n",
    "    return text.strip()\n",
    "\n",
    "df['cleaned_text'] = df['text'].apply(clean_text)\n",
    "\n",
    "# Tokenize the text\n",
    "tokenizer = BertTokenizer.from_pretrained('bert-base-uncased')\n",
    "\n",
    "def tokenize_text(text):\n",
    "    return tokenizer.encode_plus(\n",
    "        text,\n",
    "        add_special_tokens=True,\n",
    "        max_length=128,\n",
    "        pad_to_max_length=True,\n",
    "        return_attention_mask=True,\n",
    "        return_tensors='pt'\n",
    "    )\n"
   ]
  },
  {
   "cell_type": "code",
   "execution_count": 15,
   "metadata": {},
   "outputs": [
    {
     "name": "stdout",
     "output_type": "stream",
     "text": [
      "4.50.3\n"
     ]
    }
   ],
   "source": [
    "import transformers\n",
    "print(transformers.__version__)"
   ]
  },
  {
   "cell_type": "code",
   "execution_count": 16,
   "metadata": {},
   "outputs": [
    {
     "data": {
      "text/html": [
       "<div>\n",
       "<style scoped>\n",
       "    .dataframe tbody tr th:only-of-type {\n",
       "        vertical-align: middle;\n",
       "    }\n",
       "\n",
       "    .dataframe tbody tr th {\n",
       "        vertical-align: top;\n",
       "    }\n",
       "\n",
       "    .dataframe thead th {\n",
       "        text-align: right;\n",
       "    }\n",
       "</style>\n",
       "<table border=\"1\" class=\"dataframe\">\n",
       "  <thead>\n",
       "    <tr style=\"text-align: right;\">\n",
       "      <th></th>\n",
       "      <th>created_at</th>\n",
       "      <th>user</th>\n",
       "      <th>text</th>\n",
       "      <th>cleaned_text</th>\n",
       "    </tr>\n",
       "  </thead>\n",
       "  <tbody>\n",
       "    <tr>\n",
       "      <th>0</th>\n",
       "      <td>created_at</td>\n",
       "      <td>author_id</td>\n",
       "      <td>text</td>\n",
       "      <td>text</td>\n",
       "    </tr>\n",
       "    <tr>\n",
       "      <th>1</th>\n",
       "      <td>2025-03-31 04:10:53+00:00</td>\n",
       "      <td>3186601492</td>\n",
       "      <td>RT @moh_ai_r: The Eiffel Tower #mohair #mohair...</td>\n",
       "      <td>RT  The Eiffel Tower</td>\n",
       "    </tr>\n",
       "    <tr>\n",
       "      <th>2</th>\n",
       "      <td>2025-03-31 04:10:53+00:00</td>\n",
       "      <td>2213637488</td>\n",
       "      <td>RT @ThebilalSEO: Pinterest + ChatGPT = $19,845...</td>\n",
       "      <td>RT  Pinterest  ChatGPT  19845 Monthly And I ca...</td>\n",
       "    </tr>\n",
       "    <tr>\n",
       "      <th>3</th>\n",
       "      <td>2025-03-31 04:10:53+00:00</td>\n",
       "      <td>2962828127</td>\n",
       "      <td>I use deep research instead of google. Cross r...</td>\n",
       "      <td>I use deep research instead of google Cross re...</td>\n",
       "    </tr>\n",
       "    <tr>\n",
       "      <th>4</th>\n",
       "      <td>2025-03-31 04:10:52+00:00</td>\n",
       "      <td>3382</td>\n",
       "      <td>Spent the day writing. It felt like a year of ...</td>\n",
       "      <td>Spent the day writing It felt like a year of t...</td>\n",
       "    </tr>\n",
       "  </tbody>\n",
       "</table>\n",
       "</div>"
      ],
      "text/plain": [
       "                  created_at        user  \\\n",
       "0                 created_at   author_id   \n",
       "1  2025-03-31 04:10:53+00:00  3186601492   \n",
       "2  2025-03-31 04:10:53+00:00  2213637488   \n",
       "3  2025-03-31 04:10:53+00:00  2962828127   \n",
       "4  2025-03-31 04:10:52+00:00        3382   \n",
       "\n",
       "                                                text  \\\n",
       "0                                               text   \n",
       "1  RT @moh_ai_r: The Eiffel Tower #mohair #mohair...   \n",
       "2  RT @ThebilalSEO: Pinterest + ChatGPT = $19,845...   \n",
       "3  I use deep research instead of google. Cross r...   \n",
       "4  Spent the day writing. It felt like a year of ...   \n",
       "\n",
       "                                        cleaned_text  \n",
       "0                                               text  \n",
       "1                               RT  The Eiffel Tower  \n",
       "2  RT  Pinterest  ChatGPT  19845 Monthly And I ca...  \n",
       "3  I use deep research instead of google Cross re...  \n",
       "4  Spent the day writing It felt like a year of t...  "
      ]
     },
     "execution_count": 16,
     "metadata": {},
     "output_type": "execute_result"
    }
   ],
   "source": [
    "df.head()"
   ]
  },
  {
   "cell_type": "code",
   "execution_count": 17,
   "metadata": {},
   "outputs": [
    {
     "name": "stderr",
     "output_type": "stream",
     "text": [
      "Truncation was not explicitly activated but `max_length` is provided a specific value, please use `truncation=True` to explicitly truncate examples to max length. Defaulting to 'longest_first' truncation strategy. If you encode pairs of sequences (GLUE-style) with the tokenizer you can select this strategy more precisely by providing a specific strategy to `truncation`.\n",
      "c:\\ProgramData\\anaconda3\\envs\\tweets\\Lib\\site-packages\\transformers\\tokenization_utils_base.py:2700: FutureWarning: The `pad_to_max_length` argument is deprecated and will be removed in a future version, use `padding=True` or `padding='longest'` to pad to the longest sequence in the batch, or use `padding='max_length'` to pad to a max length. In this case, you can give a specific length with `max_length` (e.g. `max_length=45`) or leave max_length to None to pad to the maximal input size of the model (e.g. 512 for Bert).\n",
      "  warnings.warn(\n"
     ]
    }
   ],
   "source": [
    "\n",
    "df['tokens'] = df['cleaned_text'].apply(tokenize_text)\n",
    "\n",
    "# Prepare input tensors\n",
    "input_ids = torch.cat([item['input_ids'] for item in df['tokens']], dim=0)\n",
    "attention_masks = torch.cat([item['attention_mask'] for item in df['tokens']], dim=0)"
   ]
  },
  {
   "cell_type": "code",
   "execution_count": 18,
   "metadata": {},
   "outputs": [
    {
     "data": {
      "text/html": [
       "<div>\n",
       "<style scoped>\n",
       "    .dataframe tbody tr th:only-of-type {\n",
       "        vertical-align: middle;\n",
       "    }\n",
       "\n",
       "    .dataframe tbody tr th {\n",
       "        vertical-align: top;\n",
       "    }\n",
       "\n",
       "    .dataframe thead th {\n",
       "        text-align: right;\n",
       "    }\n",
       "</style>\n",
       "<table border=\"1\" class=\"dataframe\">\n",
       "  <thead>\n",
       "    <tr style=\"text-align: right;\">\n",
       "      <th></th>\n",
       "      <th>created_at</th>\n",
       "      <th>user</th>\n",
       "      <th>text</th>\n",
       "      <th>cleaned_text</th>\n",
       "      <th>tokens</th>\n",
       "    </tr>\n",
       "  </thead>\n",
       "  <tbody>\n",
       "    <tr>\n",
       "      <th>0</th>\n",
       "      <td>created_at</td>\n",
       "      <td>author_id</td>\n",
       "      <td>text</td>\n",
       "      <td>text</td>\n",
       "      <td>[input_ids, token_type_ids, attention_mask]</td>\n",
       "    </tr>\n",
       "    <tr>\n",
       "      <th>1</th>\n",
       "      <td>2025-03-31 04:10:53+00:00</td>\n",
       "      <td>3186601492</td>\n",
       "      <td>RT @moh_ai_r: The Eiffel Tower #mohair #mohair...</td>\n",
       "      <td>RT  The Eiffel Tower</td>\n",
       "      <td>[input_ids, token_type_ids, attention_mask]</td>\n",
       "    </tr>\n",
       "    <tr>\n",
       "      <th>2</th>\n",
       "      <td>2025-03-31 04:10:53+00:00</td>\n",
       "      <td>2213637488</td>\n",
       "      <td>RT @ThebilalSEO: Pinterest + ChatGPT = $19,845...</td>\n",
       "      <td>RT  Pinterest  ChatGPT  19845 Monthly And I ca...</td>\n",
       "      <td>[input_ids, token_type_ids, attention_mask]</td>\n",
       "    </tr>\n",
       "    <tr>\n",
       "      <th>3</th>\n",
       "      <td>2025-03-31 04:10:53+00:00</td>\n",
       "      <td>2962828127</td>\n",
       "      <td>I use deep research instead of google. Cross r...</td>\n",
       "      <td>I use deep research instead of google Cross re...</td>\n",
       "      <td>[input_ids, token_type_ids, attention_mask]</td>\n",
       "    </tr>\n",
       "    <tr>\n",
       "      <th>4</th>\n",
       "      <td>2025-03-31 04:10:52+00:00</td>\n",
       "      <td>3382</td>\n",
       "      <td>Spent the day writing. It felt like a year of ...</td>\n",
       "      <td>Spent the day writing It felt like a year of t...</td>\n",
       "      <td>[input_ids, token_type_ids, attention_mask]</td>\n",
       "    </tr>\n",
       "  </tbody>\n",
       "</table>\n",
       "</div>"
      ],
      "text/plain": [
       "                  created_at        user  \\\n",
       "0                 created_at   author_id   \n",
       "1  2025-03-31 04:10:53+00:00  3186601492   \n",
       "2  2025-03-31 04:10:53+00:00  2213637488   \n",
       "3  2025-03-31 04:10:53+00:00  2962828127   \n",
       "4  2025-03-31 04:10:52+00:00        3382   \n",
       "\n",
       "                                                text  \\\n",
       "0                                               text   \n",
       "1  RT @moh_ai_r: The Eiffel Tower #mohair #mohair...   \n",
       "2  RT @ThebilalSEO: Pinterest + ChatGPT = $19,845...   \n",
       "3  I use deep research instead of google. Cross r...   \n",
       "4  Spent the day writing. It felt like a year of ...   \n",
       "\n",
       "                                        cleaned_text  \\\n",
       "0                                               text   \n",
       "1                               RT  The Eiffel Tower   \n",
       "2  RT  Pinterest  ChatGPT  19845 Monthly And I ca...   \n",
       "3  I use deep research instead of google Cross re...   \n",
       "4  Spent the day writing It felt like a year of t...   \n",
       "\n",
       "                                        tokens  \n",
       "0  [input_ids, token_type_ids, attention_mask]  \n",
       "1  [input_ids, token_type_ids, attention_mask]  \n",
       "2  [input_ids, token_type_ids, attention_mask]  \n",
       "3  [input_ids, token_type_ids, attention_mask]  \n",
       "4  [input_ids, token_type_ids, attention_mask]  "
      ]
     },
     "execution_count": 18,
     "metadata": {},
     "output_type": "execute_result"
    }
   ],
   "source": [
    "df.head()"
   ]
  },
  {
   "cell_type": "code",
   "execution_count": null,
   "metadata": {},
   "outputs": [],
   "source": [
    "from transformers import pipeline\n",
    "# Load the sentiment analysis pipeline\n",
    "sentiment_pipeline = pipeline('sentiment-analysis', model='distilbert-base-uncased-finetuned-sst-2-english')"
   ]
  },
  {
   "cell_type": "code",
   "execution_count": 19,
   "metadata": {},
   "outputs": [
    {
     "name": "stdout",
     "output_type": "stream",
     "text": [
      "                                        cleaned_text sentiment\n",
      "0                                               text  POSITIVE\n",
      "1                               RT  The Eiffel Tower  POSITIVE\n",
      "2  RT  Pinterest  ChatGPT  19845 Monthly And I ca...  NEGATIVE\n",
      "3  I use deep research instead of google Cross re...  NEGATIVE\n",
      "4  Spent the day writing It felt like a year of t...  NEGATIVE\n"
     ]
    }
   ],
   "source": [
    "# Classify sentiment\n",
    "df['sentiment'] = df['cleaned_text'].apply(lambda x: sentiment_pipeline(x)[0]['label'])\n",
    "\n",
    "# Display the results\n",
    "print(df[['cleaned_text', 'sentiment']].head())"
   ]
  },
  {
   "cell_type": "code",
   "execution_count": 20,
   "metadata": {},
   "outputs": [],
   "source": [
    "# Save the results to a new CSV file\n",
    "df.to_csv('./data/tweets_with_sentiment.csv', index=False)"
   ]
  },
  {
   "cell_type": "code",
   "execution_count": null,
   "metadata": {},
   "outputs": [],
   "source": []
  }
 ],
 "metadata": {
  "kernelspec": {
   "display_name": "TWEETS",
   "language": "python",
   "name": "python3"
  },
  "language_info": {
   "codemirror_mode": {
    "name": "ipython",
    "version": 3
   },
   "file_extension": ".py",
   "mimetype": "text/x-python",
   "name": "python",
   "nbconvert_exporter": "python",
   "pygments_lexer": "ipython3",
   "version": "3.13.2"
  }
 },
 "nbformat": 4,
 "nbformat_minor": 2
}
